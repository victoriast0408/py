{
 "cells": [
  {
   "cell_type": "code",
   "execution_count": 5,
   "metadata": {},
   "outputs": [],
   "source": [
    "import dash\n",
    "import dash_core_components as dcc\n",
    "import plotly.graph_objs as go\n",
    "import dash_html_components as html\n",
    "import pandas as pd\n",
    "import numpy as np"
   ]
  },
  {
   "cell_type": "code",
   "execution_count": 6,
   "metadata": {},
   "outputs": [],
   "source": [
    "df = pd.read_excel('abcjan2018bm.xlsx')"
   ]
  },
  {
   "cell_type": "code",
   "execution_count": 10,
   "metadata": {},
   "outputs": [
    {
     "data": {
      "text/plain": [
       "array(['1190 Torten', '1340 Apéro', '1170 Kuchen', '1000 Brot Gross',\n",
       "       '1140 Trockenstückli', '<Keine Warengruppe definiert>',\n",
       "       '2000 Pfand', '1090 Mittagsmenues', '1120 Patisserie',\n",
       "       '1150 Hefe Gebäcke', '1080 Zöpfe', '1040 Spezialbrot',\n",
       "       '1330 Konfekt', '1430 3-Königstag', '1320 Pralinés',\n",
       "       '1350 Diverses', '1300 Spezialitäten', '1220 Canapés',\n",
       "       '1100 Mini Sachen', '1940 Weihnachtsguezli / Teig',\n",
       "       '1070 Getränke', '1250 Wähen', '1440 Samichlaus',\n",
       "       '1130 Aperogebäck', '1240 Salate / Birchermüesli', nan],\n",
       "      dtype=object)"
      ]
     },
     "execution_count": 10,
     "metadata": {},
     "output_type": "execute_result"
    }
   ],
   "source": [
    "df.umsatzgruppe.unique()"
   ]
  },
  {
   "cell_type": "code",
   "execution_count": null,
   "metadata": {},
   "outputs": [],
   "source": []
  },
  {
   "cell_type": "code",
   "execution_count": null,
   "metadata": {},
   "outputs": [],
   "source": []
  }
 ],
 "metadata": {
  "kernelspec": {
   "display_name": "Python 3",
   "language": "python",
   "name": "python3"
  },
  "language_info": {
   "codemirror_mode": {
    "name": "ipython",
    "version": 3
   },
   "file_extension": ".py",
   "mimetype": "text/x-python",
   "name": "python",
   "nbconvert_exporter": "python",
   "pygments_lexer": "ipython3",
   "version": "3.7.3"
  }
 },
 "nbformat": 4,
 "nbformat_minor": 4
}
